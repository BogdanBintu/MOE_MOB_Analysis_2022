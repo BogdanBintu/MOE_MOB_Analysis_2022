{
 "cells": [
  {
   "cell_type": "markdown",
   "metadata": {},
   "source": [
    "### Author: Bogdan Bintu (bbint@ucsd.edu)\n",
    "\n",
    "#### This is intended to demonstrate how to use cellpose to segment the glomeruli within the glomerular layer in the main olfactory bulb"
   ]
  },
  {
   "cell_type": "code",
   "execution_count": null,
   "metadata": {},
   "outputs": [],
   "source": [
    "import numpy as np\n",
    "import glob,os\n",
    "import matplotlib.pylab as plt\n",
    "import tifffile\n",
    "import cv2\n",
    "from tqdm import tqdm_notebook as tqdm\n",
    "from sklearn.cluster import KMeans\n",
    "from imp import reload\n",
    "import pickle\n",
    "import OB_MER_Analyser_py3 as oma\n",
    "reload(oma)\n",
    "def subdivide_im(im_resc,n=6,pad=50,nsubsample=113):\n",
    "    X = np.array(np.where(im_resc>0)).T\n",
    "    X_ = X[::113]\n",
    "    from sklearn.cluster import KMeans\n",
    "    kmeans = KMeans(n_clusters=n,random_state=0)\n",
    "    kmeans.fit(X_)\n",
    "    Xlims = []\n",
    "    for iC in range(n):\n",
    "        X__ = X_[kmeans.labels_==iC]\n",
    "        Xm,XM = np.min(X__,0)-pad,np.max(X__,0)+pad\n",
    "        Xm[Xm<0]=0\n",
    "        Xlims.append([Xm[0],XM[0],Xm[1],XM[1]])\n",
    "    return Xlims\n",
    "def rescale(im1,im2):\n",
    "    shape_ = im1.shape[:2]\n",
    "    shape = im2.shape[:2]\n",
    "    x_ = np.round(np.linspace(0,shape_[0]-1,shape[0])).astype(np.int)\n",
    "    y_ = np.round(np.linspace(0,shape_[1]-1,shape[1])).astype(np.int)\n",
    "    return im1[x_][:,y_]"
   ]
  },
  {
   "cell_type": "code",
   "execution_count": null,
   "metadata": {},
   "outputs": [],
   "source": [
    "all_folders = ['folders']\n",
    "\n",
    "ob_folders = np.sort([fld for fld in all_folders if 'subset' in fld and 'MOE' not in fld and '-Analysis' not in fld])\n",
    "ob_folders = np.array(ob_folders)\n",
    "islides = [int(fld.split('_OB')[1]) for fld in ob_folders]\n",
    "for fld in ob_folders[np.argsort(islides)]:\n",
    "    print(fld)"
   ]
  },
  {
   "cell_type": "code",
   "execution_count": 110,
   "metadata": {},
   "outputs": [],
   "source": [
    "ob_folders_ = ob_folders[np.argsort(islides)]"
   ]
  },
  {
   "cell_type": "markdown",
   "metadata": {},
   "source": [
    "### Construct the dapi images of right dimension for segmentation"
   ]
  },
  {
   "cell_type": "code",
   "execution_count": 9,
   "metadata": {},
   "outputs": [
    {
     "name": "stdout",
     "output_type": "stream",
     "text": [
      "\\\\mcclintock\\mcclintock_5\\Bogdan\\2_19_2020__OR-MER_lib1,2,3,4,5____CD1mom3_toB6pups_3col_40xStorm3_OB21\n"
     ]
    },
    {
     "data": {
      "application/vnd.jupyter.widget-view+json": {
       "model_id": "0cc0294d76434ec2b7766c0f04ceba5a",
       "version_major": 2,
       "version_minor": 0
      },
      "text/plain": [
       "HBox(children=(FloatProgress(value=0.0, max=659.0), HTML(value='')))"
      ]
     },
     "metadata": {},
     "output_type": "display_data"
    },
    {
     "name": "stdout",
     "output_type": "stream",
     "text": [
      "\n"
     ]
    },
    {
     "name": "stderr",
     "output_type": "stream",
     "text": [
      "C:\\Users\\Bogdan\\Dropbox\\code_Seurat\\OR_MERFISH_2020\\OB_MER_Analyser_py3.py:484: RuntimeWarning: invalid value encountered in true_divide\n",
      "  im_base[x:sx+x,y:sy+y,...]=(im_compare[x:sx+x,y:sy+y,...]*im_base[x:sx+x,y:sy+y,...]+im_cor_*im_)/(im_compare[x:sx+x,y:sy+y,...]+im_cor_)\n",
      "C:\\Users\\Bogdan\\Dropbox\\code_Seurat\\OR_MERFISH_2020\\OB_MER_Analyser_py3.py:485: RuntimeWarning: invalid value encountered in true_divide\n",
      "  im_compare[x:sx+x,y:sy+y,...]=(im_compare[x:sx+x,y:sy+y,...]*im_compare[x:sx+x,y:sy+y,...]+im_cor_*im_cor_)/(im_compare[x:sx+x,y:sy+y,...]+im_cor_)\n"
     ]
    },
    {
     "name": "stdout",
     "output_type": "stream",
     "text": [
      "\\\\mcclintock\\mcclintock_5\\Bogdan\\2_19_2020__OR-MER_lib6,7,8,9,10,11____CD1mom3_toB6pups_3col_40xStorm65_OB23\n"
     ]
    },
    {
     "data": {
      "application/vnd.jupyter.widget-view+json": {
       "model_id": "5a4897fe8625426b874495c05d8a1641",
       "version_major": 2,
       "version_minor": 0
      },
      "text/plain": [
       "HBox(children=(FloatProgress(value=0.0, max=562.0), HTML(value='')))"
      ]
     },
     "metadata": {},
     "output_type": "display_data"
    },
    {
     "name": "stdout",
     "output_type": "stream",
     "text": [
      "\n",
      "\\\\mcclintock\\mcclintock_5\\Bogdan\\2_22_2020__OR-MER_lib6,7,8,9,10,11____CD1mom3_toB6pups_3col_40xStorm65_OB25\n"
     ]
    },
    {
     "data": {
      "application/vnd.jupyter.widget-view+json": {
       "model_id": "837f9b5ce14f40729329b3c7ffc3bbbd",
       "version_major": 2,
       "version_minor": 0
      },
      "text/plain": [
       "HBox(children=(FloatProgress(value=0.0, max=485.0), HTML(value='')))"
      ]
     },
     "metadata": {},
     "output_type": "display_data"
    },
    {
     "name": "stdout",
     "output_type": "stream",
     "text": [
      "\n",
      "\\\\mcclintock\\mcclintock_5\\Bogdan\\2_22_2020__OR-MER_lib1,2,3,4,5____CD1mom3_toB6pups_3col_40xStorm3_OB30\n"
     ]
    },
    {
     "data": {
      "application/vnd.jupyter.widget-view+json": {
       "model_id": "87b7ceb891a44a18af980fbeeec6930a",
       "version_major": 2,
       "version_minor": 0
      },
      "text/plain": [
       "HBox(children=(FloatProgress(value=0.0, max=267.0), HTML(value='')))"
      ]
     },
     "metadata": {},
     "output_type": "display_data"
    },
    {
     "name": "stdout",
     "output_type": "stream",
     "text": [
      "\n"
     ]
    }
   ],
   "source": [
    "\n",
    "nframes = 200\n",
    "ncols=4\n",
    "frames = np.arange(ncols-1,nframes,ncols*4)\n",
    "\n",
    "for master_folder in ob_folders_:#[master_folder1,master_folder2]:\n",
    "    print(master_folder)\n",
    "    hfolders = glob.glob(master_folder+os.sep+'H*')\n",
    "    hfolder = hfolders[1]\n",
    "    fls_iter = np.sort(glob.glob(hfolder+os.sep+'*.dax'))\n",
    "    base_path = os.path.basename(master_folder)\n",
    "    analysis_folder = r'\\\\meitner\\f\\Bogdan'+os.sep+base_path+'-AnalysisOB'\n",
    "    if not os.path.exists(analysis_folder): os.makedirs(analysis_folder)\n",
    "    save_file = analysis_folder+os.sep+'dapi_resc8.tif'\n",
    "    angle = 1.5 if 'storm3' in base_path else 0 \n",
    "    if True:#not os.path.exists(save_file):\n",
    "        oma.save_tile_image_and_label(fls_iter[:],save_file,resc=8,\n",
    "                                      custom_frms=frames,pix_size_=0.162,\n",
    "                                            max_impose=True,verbose=True,\n",
    "                                                  rotation_angle=angle,add_txt=False,norm_dapi=True,invertY=True,invertX=False);"
   ]
  },
  {
   "cell_type": "code",
   "execution_count": 4,
   "metadata": {},
   "outputs": [],
   "source": [
    "%matplotlib notebook"
   ]
  },
  {
   "cell_type": "code",
   "execution_count": 8,
   "metadata": {},
   "outputs": [],
   "source": [
    "import glob\n",
    "master_folders = glob.glob(r'\\\\mcclintock\\mcclintock_5\\Bogdan-OB-analysis\\*-AnalysisOB')\n",
    "master_folders = [master_folder for master_folder in master_folders\n",
    "                  if not os.path.exists(master_folder+os.sep+'dapi_resc8_glomLayer.tif.npy')]"
   ]
  },
  {
   "cell_type": "code",
   "execution_count": 13,
   "metadata": {},
   "outputs": [
    {
     "name": "stdout",
     "output_type": "stream",
     "text": [
      "\\\\mcclintock\\mcclintock_5\\Bogdan-OB-analysis\\5_13_2021__OR-MER_lib1,2,3,4,5____CD1mom4-new_toB6pups_3col_40xStorm65_OB30-AnalysisOB\n"
     ]
    },
    {
     "data": {
      "text/plain": [
       "<matplotlib.contour.QuadContourSet at 0x24988b2ad60>"
      ]
     },
     "execution_count": 13,
     "metadata": {},
     "output_type": "execute_result"
    },
    {
     "data": {
      "image/png": "[encoded data removed]",
      "text/plain": [
       "<Figure size 432x288 with 1 Axes>"
      ]
     },
     "metadata": {
      "needs_background": "light"
     },
     "output_type": "display_data"
    }
   ],
   "source": [
    "master_folder = master_folders[0]\n",
    "\n",
    "\n",
    "print(master_folder)\n",
    "#\\\\dolly\\Raw_data_4\\Bogdan\\12_10_2020__OR-MER_lib6,7,8,9,10,11____CD1mom3_toB6pups_3col_40xStorm65_OB8\n",
    "fl = master_folder+os.sep+'dapi_resc8.tif'\n",
    "im = tifffile.imread(fl)\n",
    "im_labf = np.zeros_like(im)\n",
    "fl_mask = master_folder+os.sep+'dapi_resc8_glomLayer.tif'\n",
    "im_layer = tifffile.imread(fl_mask)>0\n",
    "\n",
    "\n",
    "res_ = 4\n",
    "im_ = im[::res_,::res_]\n",
    "im_resc = cv2.GaussianBlur(im,ksize=(0,0),sigmaX=res_/2,sigmaY=res_/2)[::res_,::res_]\n",
    "\n",
    "max_ = np.percentile(im_resc[im_>0],99)\n",
    "min_ = np.percentile(im_resc[im_>0],20)\n",
    "im_resc = np.clip((im_resc-min_)/(max_-min_),0,1)\n",
    "im_resc_i = 1-im_resc\n",
    "im_resc_i[im_==0]=0\n",
    "im_labf_resc = np.zeros(im_resc_i.shape,dtype=np.uint64)\n",
    "\n",
    "\n",
    "\n",
    "#plt.figure()\n",
    "#plt.imshow(1-im_resc_i,cmap='gray')\n",
    "\n",
    "\n",
    "plt.figure()\n",
    "plt.imshow(1-im_resc_i,cmap='gray')\n",
    "lims_ = subdivide_im(im_layer[::res_,::res_],n=6,pad=50,nsubsample=113)####################\n",
    "for lm_ in lims_:\n",
    "    plt.plot([lm_[2],lm_[2],lm_[3],lm_[3],lm_[2]],[lm_[0],lm_[1],lm_[1],lm_[0],lm_[0]],'r-')\n",
    "plt.contour(im_layer[::res_,::res_]>0,[0.5],colors=['g'])"
   ]
  },
  {
   "cell_type": "markdown",
   "metadata": {},
   "source": [
    "### Run cellpose"
   ]
  },
  {
   "cell_type": "code",
   "execution_count": 14,
   "metadata": {},
   "outputs": [
    {
     "name": "stderr",
     "output_type": "stream",
     "text": [
      "<ipython-input-14-7db1ad056059>:4: TqdmDeprecationWarning: This function will be removed in tqdm==5.0.0\n",
      "Please use `tqdm.notebook.tqdm` instead of `tqdm.tqdm_notebook`\n",
      "  for lm_ in tqdm(lims_):\n"
     ]
    },
    {
     "data": {
      "application/vnd.jupyter.widget-view+json": {
       "model_id": "21944e563d454127814a0c11d5413840",
       "version_major": 2,
       "version_minor": 0
      },
      "text/plain": [
       "HBox(children=(FloatProgress(value=0.0, max=6.0), HTML(value='')))"
      ]
     },
     "metadata": {},
     "output_type": "display_data"
    },
    {
     "name": "stdout",
     "output_type": "stream",
     "text": [
      ">>>> using CPU\n",
      "Running test snippet to check if MKL-DNN working\n",
      "see https://pytorch.org/docs/stable/backends.html?highlight=mkl\n",
      "** MKL version working - CPU version is sped up. **\n",
      "processing 1 image(s)\n",
      "time spent: running network 8.81s; flow+mask computation 3.07\n",
      "estimated masks for 1 image(s) in 11.90 sec\n",
      ">>>> TOTAL TIME 11.90 sec\n",
      ">>>> using CPU\n",
      "Running test snippet to check if MKL-DNN working\n",
      "see https://pytorch.org/docs/stable/backends.html?highlight=mkl\n",
      "** MKL version working - CPU version is sped up. **\n",
      "processing 1 image(s)\n",
      "time spent: running network 8.32s; flow+mask computation 3.12\n",
      "estimated masks for 1 image(s) in 11.45 sec\n",
      ">>>> TOTAL TIME 11.45 sec\n",
      ">>>> using CPU\n",
      "Running test snippet to check if MKL-DNN working\n",
      "see https://pytorch.org/docs/stable/backends.html?highlight=mkl\n",
      "** MKL version working - CPU version is sped up. **\n",
      "processing 1 image(s)\n",
      "time spent: running network 13.24s; flow+mask computation 4.00\n",
      "estimated masks for 1 image(s) in 17.27 sec\n",
      ">>>> TOTAL TIME 17.27 sec\n",
      ">>>> using CPU\n",
      "Running test snippet to check if MKL-DNN working\n",
      "see https://pytorch.org/docs/stable/backends.html?highlight=mkl\n",
      "** MKL version working - CPU version is sped up. **\n",
      "processing 1 image(s)\n",
      "time spent: running network 8.56s; flow+mask computation 3.31\n",
      "estimated masks for 1 image(s) in 11.87 sec\n",
      ">>>> TOTAL TIME 11.87 sec\n",
      ">>>> using CPU\n",
      "Running test snippet to check if MKL-DNN working\n",
      "see https://pytorch.org/docs/stable/backends.html?highlight=mkl\n",
      "** MKL version working - CPU version is sped up. **\n",
      "processing 1 image(s)\n",
      "time spent: running network 6.83s; flow+mask computation 2.14\n",
      "estimated masks for 1 image(s) in 8.98 sec\n",
      ">>>> TOTAL TIME 8.98 sec\n",
      ">>>> using CPU\n",
      "Running test snippet to check if MKL-DNN working\n",
      "see https://pytorch.org/docs/stable/backends.html?highlight=mkl\n",
      "** MKL version working - CPU version is sped up. **\n",
      "processing 1 image(s)\n",
      "time spent: running network 8.44s; flow+mask computation 3.34\n",
      "estimated masks for 1 image(s) in 11.80 sec\n",
      ">>>> TOTAL TIME 11.80 sec\n",
      "\n"
     ]
    },
    {
     "data": {
      "image/png": "[encoded data removed]",
      "text/plain": [
       "<Figure size 432x288 with 1 Axes>"
      ]
     },
     "metadata": {
      "needs_background": "light"
     },
     "output_type": "display_data"
    }
   ],
   "source": [
    "limits = []\n",
    "iOB=0\n",
    "im_labf_resc = np.zeros(im_resc_i.shape,dtype=np.uint64)\n",
    "for lm_ in tqdm(lims_):\n",
    "    xm,xM,ym,yM = lm_#lims_[1]\n",
    "    img = im_resc_i[xm:xM,ym:yM]\n",
    "    img_layer = im_layer[::res_,::res_][xm:xM,ym:yM]\n",
    "    #plt.figure()\n",
    "    #plt.imshow(img,cmap='gray')\n",
    "    from cellpose import models, io\n",
    "    from cellpose.utils import masks_to_outlines\n",
    "    model = models.Cellpose(gpu=False, model_type='nuclei')\n",
    "    masks, flows, styles,diam = model.eval(img,diameter=20,flow_threshold=20,min_size=15,cellprob_threshold=-20)\n",
    "    from cellpose import plot\n",
    "\n",
    "\n",
    "\n",
    "    cell_prob = rescale(flows[2],img)\n",
    "    grad_prob = rescale(flows[0],img)\n",
    "    grad_prob_ = np.max(grad_prob,-1)\n",
    "    masks_ = masks.copy()\n",
    "    outlines = masks_to_outlines(masks)\n",
    "    masks_[outlines]=0\n",
    "\n",
    "    #compute statistics across glomeruli\n",
    "    nOBs = np.max(masks_)\n",
    "    #from scipy.ndimage import maximum as ndi_f\n",
    "    #ndi_f(cell_prob, masks_, np.arange(1,nOBs+1))\n",
    "    #ndi_f(grad_prob_, masks_, np.arange(1,nOBs+1))\n",
    "\n",
    "\n",
    "    if False:\n",
    "        f,(ax1,ax2,ax3,ax4)=plt.subplots(1,4,sharex=True,sharey=True)\n",
    "        img_ = 255-img\n",
    "        ax1.imshow(img_,cmap='gray')\n",
    "        ax2.imshow(masks_>0)#plot.mask_overlay(img_,masks_to_outlines(masks),np.array([[255,0,0]])))\n",
    "        ax3.imshow(grad_prob)\n",
    "        ax4.imshow(cell_prob,vmin=-3)\n",
    "        #ax3.imshow(plot.mask_overlay(img_,masks_to_outlines(msk),np.array([[255,0,0]])))\n",
    "\n",
    "    ###  Filter glomeruli on glomeruli layer    \n",
    "    #masks__ = np.zeros_like(masks)\n",
    "    #im_labf_resc[xm:xM,ym:yM] *=0\n",
    "    #iOB = np.max(im_labf_resc)\n",
    "    #masks__ = im_labf_resc[xm:xM,ym:yM]\n",
    "    for OB_ in np.arange(np.max(masks)+1):\n",
    "        in_ = masks==OB_\n",
    "        if np.mean(img_layer[in_])>0.5:\n",
    "            if np.median(im_labf_resc[xm:xM,ym:yM][in_])==0:\n",
    "                iOB+=1\n",
    "                im_labf_resc[xm:xM,ym:yM][in_]=iOB\n",
    "                X = (np.array(np.where(in_)).T+[xm,ym])*res_\n",
    "                Xm,XM = np.min(X,0),np.max(X,0)\n",
    "                limits.append([Xm[0],XM[0],Xm[1],XM[1],np.mean(X,0),np.max(cell_prob[in_]),np.max(grad_prob_[in_])])\n",
    "    #im_labf_resc[xm:xM,ym:yM]=masks__\n",
    "    \n",
    "    \n",
    "im_T = 1-im_resc_i+0.1\n",
    "im_T[0,0]=0\n",
    "im_diagnose = plot.mask_overlay(im_T,masks_to_outlines(im_labf_resc),np.array([[255,0,0]]))\n",
    "\n",
    "plt.figure()\n",
    "plt.imshow(im_diagnose)\n",
    "\n",
    "### save\n",
    "cv2.imwrite(master_folder+os.sep+'dapi_resc_gloemruli.png',im_diagnose)\n",
    "fl_mask = master_folder+os.sep+'dapi_resc8_glomLayer.tif'\n",
    "im_labf = rescale(im_labf_resc,im)\n",
    "np.save(fl_mask.replace('.png','.npy'),[im_labf,limits])"
   ]
  }
 ],
 "metadata": {
  "kernelspec": {
   "display_name": "Python 3 (ipykernel)",
   "language": "python",
   "name": "python3"
  },
  "language_info": {
   "codemirror_mode": {
    "name": "ipython",
    "version": 3
   },
   "file_extension": ".py",
   "mimetype": "text/x-python",
   "name": "python",
   "nbconvert_exporter": "python",
   "pygments_lexer": "ipython3",
   "version": "3.9.7"
  }
 },
 "nbformat": 4,
 "nbformat_minor": 2
}
